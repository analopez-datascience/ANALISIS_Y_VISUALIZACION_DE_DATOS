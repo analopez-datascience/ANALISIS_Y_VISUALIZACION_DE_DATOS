{
 "cells": [
  {
   "cell_type": "markdown",
   "id": "0c64cc79",
   "metadata": {},
   "source": [
    "Paso 1: importar las librerias"
   ]
  },
  {
   "cell_type": "code",
   "execution_count": null,
   "id": "bf43d652",
   "metadata": {},
   "outputs": [],
   "source": [
    "import numpy as np\n",
    "import pandas as pd\n",
    "import matplotlib.pyplot as plt\n",
    "import seaborn as sns"
   ]
  },
  {
   "cell_type": "markdown",
   "id": "c0c8d10d",
   "metadata": {},
   "source": [
    "Paso 2: cargar el data set"
   ]
  },
  {
   "cell_type": "code",
   "execution_count": null,
   "id": "6c87cd35",
   "metadata": {},
   "outputs": [],
   "source": [
    "df = pd.read_csv(\"./.csv\")\n",
    "df"
   ]
  },
  {
   "cell_type": "code",
   "execution_count": null,
   "id": "c989de73",
   "metadata": {},
   "outputs": [],
   "source": [
    "df.columns\n",
    "df.shape\n",
    "df.dtypes\n",
    "df.describe().round(3).T\n",
    "df.describe(include=['O']).T\n",
    "df.loc[df.duplicated()]\n",
    "df.variable.unique()\n",
    "df.variable.mean()\n"
   ]
  }
 ],
 "metadata": {
  "kernelspec": {
   "display_name": "Python 3 (ipykernel)",
   "language": "python",
   "name": "python3"
  },
  "language_info": {
   "codemirror_mode": {
    "name": "ipython",
    "version": 3
   },
   "file_extension": ".py",
   "mimetype": "text/x-python",
   "name": "python",
   "nbconvert_exporter": "python",
   "pygments_lexer": "ipython3",
   "version": "3.9.12"
  }
 },
 "nbformat": 4,
 "nbformat_minor": 5
}
